{
 "cells": [
  {
   "cell_type": "markdown",
   "metadata": {},
   "source": [
    "Graficar un histograma agrupando por valor del atributo “province”."
   ]
  },
  {
   "cell_type": "code",
   "execution_count": 166,
   "metadata": {},
   "outputs": [],
   "source": [
    "%matplotlib inline\n",
    "from matplotlib import pyplot as plt\n",
    "import pandas as pd\n",
    "import numpy as np\n",
    "import seaborn as sb"
   ]
  },
  {
   "cell_type": "code",
   "execution_count": 170,
   "metadata": {},
   "outputs": [],
   "source": [
    "df_pasos = pd.read_json(\"../input/pasos.json\")"
   ]
  },
  {
   "cell_type": "code",
   "execution_count": 171,
   "metadata": {},
   "outputs": [
    {
     "data": {
      "text/html": [
       "<div>\n",
       "<style scoped>\n",
       "    .dataframe tbody tr th:only-of-type {\n",
       "        vertical-align: middle;\n",
       "    }\n",
       "\n",
       "    .dataframe tbody tr th {\n",
       "        vertical-align: top;\n",
       "    }\n",
       "\n",
       "    .dataframe thead th {\n",
       "        text-align: right;\n",
       "    }\n",
       "</style>\n",
       "<table border=\"1\" class=\"dataframe\">\n",
       "  <thead>\n",
       "    <tr style=\"text-align: right;\">\n",
       "      <th></th>\n",
       "      <th>location</th>\n",
       "      <th>name</th>\n",
       "      <th>province</th>\n",
       "    </tr>\n",
       "  </thead>\n",
       "  <tbody>\n",
       "    <tr>\n",
       "      <th>4</th>\n",
       "      <td>[-51.6896359, -72.2993574]</td>\n",
       "      <td>PASO LAURITA CASAS VIEJAS</td>\n",
       "      <td>Santa Cruz</td>\n",
       "    </tr>\n",
       "    <tr>\n",
       "      <th>175</th>\n",
       "      <td>[-27.7303477, -54.9169915]</td>\n",
       "      <td>PANAMBI - VERACRUZ</td>\n",
       "      <td>Misiones</td>\n",
       "    </tr>\n",
       "    <tr>\n",
       "      <th>247</th>\n",
       "      <td>[-45.2213569, -71.3610803]</td>\n",
       "      <td>PASO PAMPA ALTA</td>\n",
       "      <td>Chubut</td>\n",
       "    </tr>\n",
       "    <tr>\n",
       "      <th>57</th>\n",
       "      <td>[-38.7885986, -62.2710768]</td>\n",
       "      <td>PUERTO BAHIA BLANCA</td>\n",
       "      <td>Buenos Aires</td>\n",
       "    </tr>\n",
       "    <tr>\n",
       "      <th>237</th>\n",
       "      <td>[-24.8027954, -59.2496609]</td>\n",
       "      <td>GRL BELGRANO - GRL BRUGUEZ</td>\n",
       "      <td>Chaco</td>\n",
       "    </tr>\n",
       "  </tbody>\n",
       "</table>\n",
       "</div>"
      ],
      "text/plain": [
       "                       location                        name      province\n",
       "4    [-51.6896359, -72.2993574]   PASO LAURITA CASAS VIEJAS    Santa Cruz\n",
       "175  [-27.7303477, -54.9169915]          PANAMBI - VERACRUZ      Misiones\n",
       "247  [-45.2213569, -71.3610803]             PASO PAMPA ALTA        Chubut\n",
       "57   [-38.7885986, -62.2710768]         PUERTO BAHIA BLANCA  Buenos Aires\n",
       "237  [-24.8027954, -59.2496609]  GRL BELGRANO - GRL BRUGUEZ         Chaco"
      ]
     },
     "execution_count": 171,
     "metadata": {},
     "output_type": "execute_result"
    }
   ],
   "source": [
    "df_pasos.sample(5)"
   ]
  },
  {
   "cell_type": "code",
   "execution_count": 172,
   "metadata": {},
   "outputs": [
    {
     "data": {
      "text/plain": [
       "location    object\n",
       "name        object\n",
       "province    object\n",
       "dtype: object"
      ]
     },
     "execution_count": 172,
     "metadata": {},
     "output_type": "execute_result"
    }
   ],
   "source": [
    "df_pasos.dtypes"
   ]
  },
  {
   "cell_type": "code",
   "execution_count": 173,
   "metadata": {},
   "outputs": [
    {
     "data": {
      "text/plain": [
       "(252, 3)"
      ]
     },
     "execution_count": 173,
     "metadata": {},
     "output_type": "execute_result"
    }
   ],
   "source": [
    "df_pasos.shape"
   ]
  },
  {
   "cell_type": "code",
   "execution_count": 174,
   "metadata": {},
   "outputs": [
    {
     "data": {
      "text/html": [
       "<div>\n",
       "<style scoped>\n",
       "    .dataframe tbody tr th:only-of-type {\n",
       "        vertical-align: middle;\n",
       "    }\n",
       "\n",
       "    .dataframe tbody tr th {\n",
       "        vertical-align: top;\n",
       "    }\n",
       "\n",
       "    .dataframe thead th {\n",
       "        text-align: right;\n",
       "    }\n",
       "</style>\n",
       "<table border=\"1\" class=\"dataframe\">\n",
       "  <thead>\n",
       "    <tr style=\"text-align: right;\">\n",
       "      <th></th>\n",
       "      <th>location</th>\n",
       "      <th>name</th>\n",
       "      <th>province</th>\n",
       "    </tr>\n",
       "  </thead>\n",
       "  <tbody>\n",
       "    <tr>\n",
       "      <th>30</th>\n",
       "      <td>[-45.7894354, -67.4696871]</td>\n",
       "      <td>AERO COMODORO RIVADAVIA</td>\n",
       "      <td>Chubut</td>\n",
       "    </tr>\n",
       "    <tr>\n",
       "      <th>31</th>\n",
       "      <td>[-45.7894354, -67.4696871]</td>\n",
       "      <td>AERO COMODORO RIVADAVIA</td>\n",
       "      <td>Chubut</td>\n",
       "    </tr>\n",
       "    <tr>\n",
       "      <th>125</th>\n",
       "      <td>[-31.3154367, -64.2145085]</td>\n",
       "      <td>AERO CORDOBA</td>\n",
       "      <td>Cordoba</td>\n",
       "    </tr>\n",
       "    <tr>\n",
       "      <th>122</th>\n",
       "      <td>[-31.3154367, -64.2145085]</td>\n",
       "      <td>AERO CORDOBA</td>\n",
       "      <td>Cordoba</td>\n",
       "    </tr>\n",
       "    <tr>\n",
       "      <th>88</th>\n",
       "      <td>[-34.5580305, -58.4191975]</td>\n",
       "      <td>AERO JORGE NEWBERY</td>\n",
       "      <td>Buenos Aires</td>\n",
       "    </tr>\n",
       "    <tr>\n",
       "      <th>89</th>\n",
       "      <td>[-34.5580305, -58.4191975]</td>\n",
       "      <td>AERO JORGE NEWBERY</td>\n",
       "      <td>Buenos Aires</td>\n",
       "    </tr>\n",
       "    <tr>\n",
       "      <th>227</th>\n",
       "      <td>[-37.9341161, -57.5745361]</td>\n",
       "      <td>AERO MAR DEL PLATA</td>\n",
       "      <td>Buenos Aires</td>\n",
       "    </tr>\n",
       "    <tr>\n",
       "      <th>63</th>\n",
       "      <td>[-37.9341161, -57.5745361]</td>\n",
       "      <td>AERO MAR DEL PLATA</td>\n",
       "      <td>Buenos Aires</td>\n",
       "    </tr>\n",
       "    <tr>\n",
       "      <th>53</th>\n",
       "      <td>[-38.9521333, -68.142673]</td>\n",
       "      <td>AERO NEUQUEN</td>\n",
       "      <td>Neuquen</td>\n",
       "    </tr>\n",
       "    <tr>\n",
       "      <th>54</th>\n",
       "      <td>[-38.9521333, -68.142673]</td>\n",
       "      <td>AERO NEUQUEN</td>\n",
       "      <td>Neuquen</td>\n",
       "    </tr>\n",
       "    <tr>\n",
       "      <th>14</th>\n",
       "      <td>[-51.6117879, -69.3085038]</td>\n",
       "      <td>AERO RIO GALLEGOS</td>\n",
       "      <td>Santa Cruz</td>\n",
       "    </tr>\n",
       "    <tr>\n",
       "      <th>15</th>\n",
       "      <td>[-51.6117879, -69.3085038]</td>\n",
       "      <td>AERO RIO GALLEGOS</td>\n",
       "      <td>AEROPUERTO INTERNACIONAL PILOTO CIVIL NORBERTO...</td>\n",
       "    </tr>\n",
       "    <tr>\n",
       "      <th>117</th>\n",
       "      <td>[-32.9168872, -60.7825792]</td>\n",
       "      <td>AERO ROSARIO</td>\n",
       "      <td>Santa Fe</td>\n",
       "    </tr>\n",
       "    <tr>\n",
       "      <th>115</th>\n",
       "      <td>[-32.9168872, -60.7825792]</td>\n",
       "      <td>AERO ROSARIO</td>\n",
       "      <td>Santa Fe</td>\n",
       "    </tr>\n",
       "    <tr>\n",
       "      <th>99</th>\n",
       "      <td>[-31.5718139, -68.4247562]</td>\n",
       "      <td>AERO SAN JUAN</td>\n",
       "      <td>San Juan</td>\n",
       "    </tr>\n",
       "    <tr>\n",
       "      <th>100</th>\n",
       "      <td>[-31.5718139, -68.4247562]</td>\n",
       "      <td>AERO SAN JUAN</td>\n",
       "      <td>San Juan</td>\n",
       "    </tr>\n",
       "    <tr>\n",
       "      <th>158</th>\n",
       "      <td>[-26.8358881, -65.1105502]</td>\n",
       "      <td>AEROPUERTO INTERNACIONAL TENIENTE GENERAL BENJ...</td>\n",
       "      <td>Tucuman</td>\n",
       "    </tr>\n",
       "    <tr>\n",
       "      <th>159</th>\n",
       "      <td>[-26.8358881, -65.1105502]</td>\n",
       "      <td>AEROPUERTO INTERNACIONAL TENIENTE GENERAL BENJ...</td>\n",
       "      <td>Tucuman</td>\n",
       "    </tr>\n",
       "    <tr>\n",
       "      <th>68</th>\n",
       "      <td>[-32.825277, -70.0729456]</td>\n",
       "      <td>CRISTO REDENTOR (LIBERTADORES)</td>\n",
       "      <td>Mendoza</td>\n",
       "    </tr>\n",
       "    <tr>\n",
       "      <th>66</th>\n",
       "      <td>[-32.825277, -70.0729456]</td>\n",
       "      <td>CRISTO REDENTOR (LIBERTADORES)</td>\n",
       "      <td>Mendoza</td>\n",
       "    </tr>\n",
       "    <tr>\n",
       "      <th>23</th>\n",
       "      <td>[-46.2752267, -71.7270022]</td>\n",
       "      <td>ING. PALLAVICINI - IBAÑEZ</td>\n",
       "      <td>Santa Cruz</td>\n",
       "    </tr>\n",
       "    <tr>\n",
       "      <th>22</th>\n",
       "      <td>[-46.2752267, -71.7270022]</td>\n",
       "      <td>ING. PALLAVICINI - IBAÑEZ</td>\n",
       "      <td>Santa Cruz</td>\n",
       "    </tr>\n",
       "    <tr>\n",
       "      <th>128</th>\n",
       "      <td>[-29.1156361, -56.554963]</td>\n",
       "      <td>PUERTO ALVEAR</td>\n",
       "      <td>Entre Rios</td>\n",
       "    </tr>\n",
       "    <tr>\n",
       "      <th>129</th>\n",
       "      <td>[-29.1156361, -56.554963]</td>\n",
       "      <td>PUERTO ALVEAR</td>\n",
       "      <td>Entre Rios</td>\n",
       "    </tr>\n",
       "    <tr>\n",
       "      <th>135</th>\n",
       "      <td>[-32.2149531, -58.1378887]</td>\n",
       "      <td>PUERTO COLON</td>\n",
       "      <td>Santa Fe</td>\n",
       "    </tr>\n",
       "    <tr>\n",
       "      <th>136</th>\n",
       "      <td>[-32.2165573, -58.1470583]</td>\n",
       "      <td>PUERTO COLON</td>\n",
       "      <td>Santa Fe</td>\n",
       "    </tr>\n",
       "    <tr>\n",
       "      <th>249</th>\n",
       "      <td>[-34.1176359, -57.9897668]</td>\n",
       "      <td>ROU COLONIA</td>\n",
       "      <td>Buenos Aires</td>\n",
       "    </tr>\n",
       "    <tr>\n",
       "      <th>250</th>\n",
       "      <td>[-34.1176359, -57.9897668]</td>\n",
       "      <td>ROU COLONIA</td>\n",
       "      <td>Buenos Aires</td>\n",
       "    </tr>\n",
       "  </tbody>\n",
       "</table>\n",
       "</div>"
      ],
      "text/plain": [
       "                       location  \\\n",
       "30   [-45.7894354, -67.4696871]   \n",
       "31   [-45.7894354, -67.4696871]   \n",
       "125  [-31.3154367, -64.2145085]   \n",
       "122  [-31.3154367, -64.2145085]   \n",
       "88   [-34.5580305, -58.4191975]   \n",
       "89   [-34.5580305, -58.4191975]   \n",
       "227  [-37.9341161, -57.5745361]   \n",
       "63   [-37.9341161, -57.5745361]   \n",
       "53    [-38.9521333, -68.142673]   \n",
       "54    [-38.9521333, -68.142673]   \n",
       "14   [-51.6117879, -69.3085038]   \n",
       "15   [-51.6117879, -69.3085038]   \n",
       "117  [-32.9168872, -60.7825792]   \n",
       "115  [-32.9168872, -60.7825792]   \n",
       "99   [-31.5718139, -68.4247562]   \n",
       "100  [-31.5718139, -68.4247562]   \n",
       "158  [-26.8358881, -65.1105502]   \n",
       "159  [-26.8358881, -65.1105502]   \n",
       "68    [-32.825277, -70.0729456]   \n",
       "66    [-32.825277, -70.0729456]   \n",
       "23   [-46.2752267, -71.7270022]   \n",
       "22   [-46.2752267, -71.7270022]   \n",
       "128   [-29.1156361, -56.554963]   \n",
       "129   [-29.1156361, -56.554963]   \n",
       "135  [-32.2149531, -58.1378887]   \n",
       "136  [-32.2165573, -58.1470583]   \n",
       "249  [-34.1176359, -57.9897668]   \n",
       "250  [-34.1176359, -57.9897668]   \n",
       "\n",
       "                                                  name  \\\n",
       "30                             AERO COMODORO RIVADAVIA   \n",
       "31                             AERO COMODORO RIVADAVIA   \n",
       "125                                       AERO CORDOBA   \n",
       "122                                       AERO CORDOBA   \n",
       "88                                  AERO JORGE NEWBERY   \n",
       "89                                  AERO JORGE NEWBERY   \n",
       "227                                 AERO MAR DEL PLATA   \n",
       "63                                  AERO MAR DEL PLATA   \n",
       "53                                        AERO NEUQUEN   \n",
       "54                                        AERO NEUQUEN   \n",
       "14                                   AERO RIO GALLEGOS   \n",
       "15                                   AERO RIO GALLEGOS   \n",
       "117                                       AERO ROSARIO   \n",
       "115                                       AERO ROSARIO   \n",
       "99                                       AERO SAN JUAN   \n",
       "100                                      AERO SAN JUAN   \n",
       "158  AEROPUERTO INTERNACIONAL TENIENTE GENERAL BENJ...   \n",
       "159  AEROPUERTO INTERNACIONAL TENIENTE GENERAL BENJ...   \n",
       "68                      CRISTO REDENTOR (LIBERTADORES)   \n",
       "66                      CRISTO REDENTOR (LIBERTADORES)   \n",
       "23                           ING. PALLAVICINI - IBAÑEZ   \n",
       "22                           ING. PALLAVICINI - IBAÑEZ   \n",
       "128                                      PUERTO ALVEAR   \n",
       "129                                      PUERTO ALVEAR   \n",
       "135                                       PUERTO COLON   \n",
       "136                                       PUERTO COLON   \n",
       "249                                        ROU COLONIA   \n",
       "250                                        ROU COLONIA   \n",
       "\n",
       "                                              province  \n",
       "30                                              Chubut  \n",
       "31                                              Chubut  \n",
       "125                                            Cordoba  \n",
       "122                                            Cordoba  \n",
       "88                                        Buenos Aires  \n",
       "89                                        Buenos Aires  \n",
       "227                                       Buenos Aires  \n",
       "63                                        Buenos Aires  \n",
       "53                                             Neuquen  \n",
       "54                                             Neuquen  \n",
       "14                                          Santa Cruz  \n",
       "15   AEROPUERTO INTERNACIONAL PILOTO CIVIL NORBERTO...  \n",
       "117                                           Santa Fe  \n",
       "115                                           Santa Fe  \n",
       "99                                            San Juan  \n",
       "100                                           San Juan  \n",
       "158                                            Tucuman  \n",
       "159                                            Tucuman  \n",
       "68                                             Mendoza  \n",
       "66                                             Mendoza  \n",
       "23                                          Santa Cruz  \n",
       "22                                          Santa Cruz  \n",
       "128                                         Entre Rios  \n",
       "129                                         Entre Rios  \n",
       "135                                           Santa Fe  \n",
       "136                                           Santa Fe  \n",
       "249                                       Buenos Aires  \n",
       "250                                       Buenos Aires  "
      ]
     },
     "execution_count": 174,
     "metadata": {},
     "output_type": "execute_result"
    }
   ],
   "source": [
    "# listado de duplicados por nombre\n",
    "df_pasos[df_pasos.name.duplicated(keep=False)].sort_values(by ='name')"
   ]
  },
  {
   "cell_type": "code",
   "execution_count": 175,
   "metadata": {},
   "outputs": [],
   "source": [
    "df_pasos_2 = df_pasos[df_pasos.name.duplicated(keep='first') == False]"
   ]
  },
  {
   "cell_type": "markdown",
   "metadata": {},
   "source": [
    "ELiminamos los nombres duplicados"
   ]
  },
  {
   "cell_type": "code",
   "execution_count": 176,
   "metadata": {},
   "outputs": [
    {
     "data": {
      "text/html": [
       "<div>\n",
       "<style scoped>\n",
       "    .dataframe tbody tr th:only-of-type {\n",
       "        vertical-align: middle;\n",
       "    }\n",
       "\n",
       "    .dataframe tbody tr th {\n",
       "        vertical-align: top;\n",
       "    }\n",
       "\n",
       "    .dataframe thead th {\n",
       "        text-align: right;\n",
       "    }\n",
       "</style>\n",
       "<table border=\"1\" class=\"dataframe\">\n",
       "  <thead>\n",
       "    <tr style=\"text-align: right;\">\n",
       "      <th></th>\n",
       "      <th>location</th>\n",
       "      <th>name</th>\n",
       "      <th>province</th>\n",
       "    </tr>\n",
       "  </thead>\n",
       "  <tbody>\n",
       "  </tbody>\n",
       "</table>\n",
       "</div>"
      ],
      "text/plain": [
       "Empty DataFrame\n",
       "Columns: [location, name, province]\n",
       "Index: []"
      ]
     },
     "execution_count": 176,
     "metadata": {},
     "output_type": "execute_result"
    }
   ],
   "source": [
    "# verificamos que no hay mas duplicados por nombre\n",
    "df_pasos_2[df_pasos_2.name.duplicated(keep=False)]"
   ]
  },
  {
   "cell_type": "code",
   "execution_count": 177,
   "metadata": {},
   "outputs": [
    {
     "ename": "SystemError",
     "evalue": "<built-in function duplicated_object> returned a result with an error set",
     "output_type": "error",
     "traceback": [
      "\u001b[0;31m---------------------------------------------------------------------------\u001b[0m",
      "\u001b[0;31mTypeError\u001b[0m                                 Traceback (most recent call last)",
      "\u001b[0;31mTypeError\u001b[0m: unhashable type: 'list'",
      "\nThe above exception was the direct cause of the following exception:\n",
      "\u001b[0;31mSystemError\u001b[0m                               Traceback (most recent call last)",
      "\u001b[0;32m<ipython-input-177-ebbc1196f453>\u001b[0m in \u001b[0;36m<module>\u001b[0;34m\u001b[0m\n\u001b[1;32m      1\u001b[0m \u001b[0;31m#listamos registros con idéntica location\u001b[0m\u001b[0;34m\u001b[0m\u001b[0;34m\u001b[0m\u001b[0;34m\u001b[0m\u001b[0m\n\u001b[0;32m----> 2\u001b[0;31m \u001b[0mdf_pasos_2\u001b[0m\u001b[0;34m[\u001b[0m\u001b[0mdf_pasos_2\u001b[0m\u001b[0;34m.\u001b[0m\u001b[0mlocation\u001b[0m\u001b[0;34m.\u001b[0m\u001b[0mduplicated\u001b[0m\u001b[0;34m(\u001b[0m\u001b[0mkeep\u001b[0m\u001b[0;34m=\u001b[0m\u001b[0;32mFalse\u001b[0m\u001b[0;34m)\u001b[0m\u001b[0;34m]\u001b[0m\u001b[0;34m\u001b[0m\u001b[0;34m\u001b[0m\u001b[0m\n\u001b[0m",
      "\u001b[0;32m~/anaconda3/envs/diplodatos/lib/python3.6/site-packages/pandas/core/series.py\u001b[0m in \u001b[0;36mduplicated\u001b[0;34m(self, keep)\u001b[0m\n\u001b[1;32m   1813\u001b[0m         \u001b[0mdtype\u001b[0m\u001b[0;34m:\u001b[0m \u001b[0mbool\u001b[0m\u001b[0;34m\u001b[0m\u001b[0;34m\u001b[0m\u001b[0m\n\u001b[1;32m   1814\u001b[0m         \"\"\"\n\u001b[0;32m-> 1815\u001b[0;31m         \u001b[0;32mreturn\u001b[0m \u001b[0msuper\u001b[0m\u001b[0;34m(\u001b[0m\u001b[0mSeries\u001b[0m\u001b[0;34m,\u001b[0m \u001b[0mself\u001b[0m\u001b[0;34m)\u001b[0m\u001b[0;34m.\u001b[0m\u001b[0mduplicated\u001b[0m\u001b[0;34m(\u001b[0m\u001b[0mkeep\u001b[0m\u001b[0;34m=\u001b[0m\u001b[0mkeep\u001b[0m\u001b[0;34m)\u001b[0m\u001b[0;34m\u001b[0m\u001b[0;34m\u001b[0m\u001b[0m\n\u001b[0m\u001b[1;32m   1816\u001b[0m \u001b[0;34m\u001b[0m\u001b[0m\n\u001b[1;32m   1817\u001b[0m     \u001b[0;32mdef\u001b[0m \u001b[0midxmin\u001b[0m\u001b[0;34m(\u001b[0m\u001b[0mself\u001b[0m\u001b[0;34m,\u001b[0m \u001b[0maxis\u001b[0m\u001b[0;34m=\u001b[0m\u001b[0;36m0\u001b[0m\u001b[0;34m,\u001b[0m \u001b[0mskipna\u001b[0m\u001b[0;34m=\u001b[0m\u001b[0;32mTrue\u001b[0m\u001b[0;34m,\u001b[0m \u001b[0;34m*\u001b[0m\u001b[0margs\u001b[0m\u001b[0;34m,\u001b[0m \u001b[0;34m**\u001b[0m\u001b[0mkwargs\u001b[0m\u001b[0;34m)\u001b[0m\u001b[0;34m:\u001b[0m\u001b[0;34m\u001b[0m\u001b[0;34m\u001b[0m\u001b[0m\n",
      "\u001b[0;32m~/anaconda3/envs/diplodatos/lib/python3.6/site-packages/pandas/core/base.py\u001b[0m in \u001b[0;36mduplicated\u001b[0;34m(self, keep)\u001b[0m\n\u001b[1;32m   1521\u001b[0m             \u001b[0;32mreturn\u001b[0m \u001b[0mduplicated\u001b[0m\u001b[0;34m(\u001b[0m\u001b[0mself\u001b[0m\u001b[0;34m,\u001b[0m \u001b[0mkeep\u001b[0m\u001b[0;34m=\u001b[0m\u001b[0mkeep\u001b[0m\u001b[0;34m)\u001b[0m\u001b[0;34m\u001b[0m\u001b[0;34m\u001b[0m\u001b[0m\n\u001b[1;32m   1522\u001b[0m         \u001b[0;32melse\u001b[0m\u001b[0;34m:\u001b[0m\u001b[0;34m\u001b[0m\u001b[0;34m\u001b[0m\u001b[0m\n\u001b[0;32m-> 1523\u001b[0;31m             return self._constructor(duplicated(self, keep=keep),\n\u001b[0m\u001b[1;32m   1524\u001b[0m                                      index=self.index).__finalize__(self)\n\u001b[1;32m   1525\u001b[0m \u001b[0;34m\u001b[0m\u001b[0m\n",
      "\u001b[0;32m~/anaconda3/envs/diplodatos/lib/python3.6/site-packages/pandas/core/algorithms.py\u001b[0m in \u001b[0;36mduplicated\u001b[0;34m(values, keep)\u001b[0m\n\u001b[1;32m    785\u001b[0m     \u001b[0mvalues\u001b[0m\u001b[0;34m,\u001b[0m \u001b[0mdtype\u001b[0m\u001b[0;34m,\u001b[0m \u001b[0mndtype\u001b[0m \u001b[0;34m=\u001b[0m \u001b[0m_ensure_data\u001b[0m\u001b[0;34m(\u001b[0m\u001b[0mvalues\u001b[0m\u001b[0;34m)\u001b[0m\u001b[0;34m\u001b[0m\u001b[0;34m\u001b[0m\u001b[0m\n\u001b[1;32m    786\u001b[0m     \u001b[0mf\u001b[0m \u001b[0;34m=\u001b[0m \u001b[0mgetattr\u001b[0m\u001b[0;34m(\u001b[0m\u001b[0mhtable\u001b[0m\u001b[0;34m,\u001b[0m \u001b[0;34m\"duplicated_{dtype}\"\u001b[0m\u001b[0;34m.\u001b[0m\u001b[0mformat\u001b[0m\u001b[0;34m(\u001b[0m\u001b[0mdtype\u001b[0m\u001b[0;34m=\u001b[0m\u001b[0mndtype\u001b[0m\u001b[0;34m)\u001b[0m\u001b[0;34m)\u001b[0m\u001b[0;34m\u001b[0m\u001b[0;34m\u001b[0m\u001b[0m\n\u001b[0;32m--> 787\u001b[0;31m     \u001b[0;32mreturn\u001b[0m \u001b[0mf\u001b[0m\u001b[0;34m(\u001b[0m\u001b[0mvalues\u001b[0m\u001b[0;34m,\u001b[0m \u001b[0mkeep\u001b[0m\u001b[0;34m=\u001b[0m\u001b[0mkeep\u001b[0m\u001b[0;34m)\u001b[0m\u001b[0;34m\u001b[0m\u001b[0;34m\u001b[0m\u001b[0m\n\u001b[0m\u001b[1;32m    788\u001b[0m \u001b[0;34m\u001b[0m\u001b[0m\n\u001b[1;32m    789\u001b[0m \u001b[0;34m\u001b[0m\u001b[0m\n",
      "\u001b[0;31mSystemError\u001b[0m: <built-in function duplicated_object> returned a result with an error set"
     ]
    }
   ],
   "source": [
    "#listamos registros con idéntica location\n",
    "df_pasos_2[df_pasos_2.location.duplicated(keep=False)]"
   ]
  },
  {
   "cell_type": "code",
   "execution_count": 178,
   "metadata": {},
   "outputs": [],
   "source": [
    "pd.set_option(\"display.precision\", 7)\n",
    "\n",
    "def serie_lat_lon(val):\n",
    "    return pd.Series([val[0], val[1]])\n",
    "\n",
    "df_pasos_new = df_pasos_2.copy()\n",
    "\n",
    "df_pasos_new[['lat', 'lon']] = df_pasos_new['location'].apply(serie_lat_lon)"
   ]
  },
  {
   "cell_type": "code",
   "execution_count": 179,
   "metadata": {},
   "outputs": [
    {
     "data": {
      "text/html": [
       "<div>\n",
       "<style scoped>\n",
       "    .dataframe tbody tr th:only-of-type {\n",
       "        vertical-align: middle;\n",
       "    }\n",
       "\n",
       "    .dataframe tbody tr th {\n",
       "        vertical-align: top;\n",
       "    }\n",
       "\n",
       "    .dataframe thead th {\n",
       "        text-align: right;\n",
       "    }\n",
       "</style>\n",
       "<table border=\"1\" class=\"dataframe\">\n",
       "  <thead>\n",
       "    <tr style=\"text-align: right;\">\n",
       "      <th></th>\n",
       "      <th>location</th>\n",
       "      <th>name</th>\n",
       "      <th>province</th>\n",
       "      <th>lat</th>\n",
       "      <th>lon</th>\n",
       "    </tr>\n",
       "  </thead>\n",
       "  <tbody>\n",
       "    <tr>\n",
       "      <th>137</th>\n",
       "      <td>[-29.3178247, -70.0146428]</td>\n",
       "      <td>PASO PASCUA LAMA</td>\n",
       "      <td>San Juan</td>\n",
       "      <td>-29.3178247</td>\n",
       "      <td>-70.0146428</td>\n",
       "    </tr>\n",
       "    <tr>\n",
       "      <th>11</th>\n",
       "      <td>[-52.1304141, -69.5198778]</td>\n",
       "      <td>INTEGRACION AUSTRAL</td>\n",
       "      <td>Santa Cruz</td>\n",
       "      <td>-52.1304141</td>\n",
       "      <td>-69.5198778</td>\n",
       "    </tr>\n",
       "    <tr>\n",
       "      <th>202</th>\n",
       "      <td>[-26.4686865, -54.7158799]</td>\n",
       "      <td>PUERTO PIRAY</td>\n",
       "      <td>Misiones</td>\n",
       "      <td>-26.4686865</td>\n",
       "      <td>-54.7158799</td>\n",
       "    </tr>\n",
       "    <tr>\n",
       "      <th>71</th>\n",
       "      <td>[-22.1902975, -64.6869445]</td>\n",
       "      <td>PASO EL CONDADO LAS MAMORAS</td>\n",
       "      <td>San Juan</td>\n",
       "      <td>-22.1902975</td>\n",
       "      <td>-64.6869445</td>\n",
       "    </tr>\n",
       "    <tr>\n",
       "      <th>158</th>\n",
       "      <td>[-26.8358881, -65.1105502]</td>\n",
       "      <td>AEROPUERTO INTERNACIONAL TENIENTE GENERAL BENJ...</td>\n",
       "      <td>Tucuman</td>\n",
       "      <td>-26.8358881</td>\n",
       "      <td>-65.1105502</td>\n",
       "    </tr>\n",
       "  </tbody>\n",
       "</table>\n",
       "</div>"
      ],
      "text/plain": [
       "                       location  \\\n",
       "137  [-29.3178247, -70.0146428]   \n",
       "11   [-52.1304141, -69.5198778]   \n",
       "202  [-26.4686865, -54.7158799]   \n",
       "71   [-22.1902975, -64.6869445]   \n",
       "158  [-26.8358881, -65.1105502]   \n",
       "\n",
       "                                                  name    province  \\\n",
       "137                                   PASO PASCUA LAMA    San Juan   \n",
       "11                                 INTEGRACION AUSTRAL  Santa Cruz   \n",
       "202                                       PUERTO PIRAY    Misiones   \n",
       "71                         PASO EL CONDADO LAS MAMORAS    San Juan   \n",
       "158  AEROPUERTO INTERNACIONAL TENIENTE GENERAL BENJ...     Tucuman   \n",
       "\n",
       "            lat         lon  \n",
       "137 -29.3178247 -70.0146428  \n",
       "11  -52.1304141 -69.5198778  \n",
       "202 -26.4686865 -54.7158799  \n",
       "71  -22.1902975 -64.6869445  \n",
       "158 -26.8358881 -65.1105502  "
      ]
     },
     "execution_count": 179,
     "metadata": {},
     "output_type": "execute_result"
    }
   ],
   "source": [
    "df_pasos_new.sample(5)"
   ]
  },
  {
   "cell_type": "code",
   "execution_count": 180,
   "metadata": {},
   "outputs": [],
   "source": [
    "df_pasos_new.drop('location', axis=1, inplace = True)"
   ]
  },
  {
   "cell_type": "markdown",
   "metadata": {},
   "source": [
    "Eliminamos la columna location"
   ]
  },
  {
   "cell_type": "code",
   "execution_count": 181,
   "metadata": {},
   "outputs": [
    {
     "data": {
      "text/plain": [
       "(238, 4)"
      ]
     },
     "execution_count": 181,
     "metadata": {},
     "output_type": "execute_result"
    }
   ],
   "source": [
    "df_pasos_new.shape"
   ]
  },
  {
   "cell_type": "code",
   "execution_count": 182,
   "metadata": {},
   "outputs": [
    {
     "data": {
      "text/html": [
       "<div>\n",
       "<style scoped>\n",
       "    .dataframe tbody tr th:only-of-type {\n",
       "        vertical-align: middle;\n",
       "    }\n",
       "\n",
       "    .dataframe tbody tr th {\n",
       "        vertical-align: top;\n",
       "    }\n",
       "\n",
       "    .dataframe thead th {\n",
       "        text-align: right;\n",
       "    }\n",
       "</style>\n",
       "<table border=\"1\" class=\"dataframe\">\n",
       "  <thead>\n",
       "    <tr style=\"text-align: right;\">\n",
       "      <th></th>\n",
       "      <th>name</th>\n",
       "      <th>province</th>\n",
       "      <th>lat</th>\n",
       "      <th>lon</th>\n",
       "    </tr>\n",
       "  </thead>\n",
       "  <tbody>\n",
       "  </tbody>\n",
       "</table>\n",
       "</div>"
      ],
      "text/plain": [
       "Empty DataFrame\n",
       "Columns: [name, province, lat, lon]\n",
       "Index: []"
      ]
     },
     "execution_count": 182,
     "metadata": {},
     "output_type": "execute_result"
    }
   ],
   "source": [
    "df_pasos_new[df_pasos_new.duplicated(keep = False)]"
   ]
  },
  {
   "cell_type": "markdown",
   "metadata": {},
   "source": [
    "Observamos que no hay registros con lat-lon identicos"
   ]
  },
  {
   "cell_type": "code",
   "execution_count": 183,
   "metadata": {},
   "outputs": [
    {
     "name": "stdout",
     "output_type": "stream",
     "text": [
      "['Buenos Aires', 'Catamarca', 'Chaco', 'Chubut', 'Cordoba', 'Corrientes', 'Córdoba', 'Entre Rios', 'Formosa', 'Jujuy', 'La Rioja', 'Mendoza', 'Misiones', 'NEUQUEN', 'Neuquen', 'Rio Negro', 'Salta', 'San Juan', 'San Luis', 'Santa Cruz', 'Santa Fe', 'Santiago del Estero', 'Tierra del Fuego', 'Tucuman']\n"
     ]
    }
   ],
   "source": [
    "print(sorted(df_pasos_new.province.unique()))"
   ]
  },
  {
   "cell_type": "markdown",
   "metadata": {},
   "source": [
    "Observamos Neuquen repetido"
   ]
  },
  {
   "cell_type": "code",
   "execution_count": 184,
   "metadata": {},
   "outputs": [],
   "source": [
    "def set_title(x):\n",
    "    return x.title()\n",
    "\n",
    "df_pasos_new['province'] = df_pasos_new['province'].apply(set_title)"
   ]
  },
  {
   "cell_type": "code",
   "execution_count": 185,
   "metadata": {},
   "outputs": [
    {
     "name": "stdout",
     "output_type": "stream",
     "text": [
      "['Buenos Aires', 'Catamarca', 'Chaco', 'Chubut', 'Cordoba', 'Corrientes', 'Córdoba', 'Entre Rios', 'Formosa', 'Jujuy', 'La Rioja', 'Mendoza', 'Misiones', 'Neuquen', 'Rio Negro', 'Salta', 'San Juan', 'San Luis', 'Santa Cruz', 'Santa Fe', 'Santiago Del Estero', 'Tierra Del Fuego', 'Tucuman']\n"
     ]
    }
   ],
   "source": [
    "print(sorted(df_pasos_new.province.unique()))"
   ]
  },
  {
   "cell_type": "markdown",
   "metadata": {},
   "source": [
    "Observamos duplicado y mal escrito 'Córdoba'"
   ]
  },
  {
   "cell_type": "code",
   "execution_count": 186,
   "metadata": {},
   "outputs": [
    {
     "name": "stdout",
     "output_type": "stream",
     "text": [
      "['Buenos Aires', 'Catamarca', 'Chaco', 'Chubut', 'Cordoba', 'Corrientes', 'Córdoba', 'Entre Rios', 'Formosa', 'Jujuy', 'La Rioja', 'Mendoza', 'Misiones', 'Neuquen', 'Rio Negro', 'Salta', 'San Juan', 'San Luis', 'Santa Cruz', 'Santa Fe', 'Santiago Del Estero', 'Tierra Del Fuego', 'Tucuman']\n"
     ]
    }
   ],
   "source": [
    "df_pasos_new['province'].replace('Cordoba', 'Córdoba')\n",
    "print(sorted(df_pasos_new.province.unique()))"
   ]
  },
  {
   "cell_type": "code",
   "execution_count": 187,
   "metadata": {},
   "outputs": [
    {
     "data": {
      "text/plain": [
       "23"
      ]
     },
     "execution_count": 187,
     "metadata": {},
     "output_type": "execute_result"
    }
   ],
   "source": [
    "len(df_pasos_new.province.unique())"
   ]
  },
  {
   "cell_type": "code",
   "execution_count": 188,
   "metadata": {},
   "outputs": [
    {
     "data": {
      "text/plain": [
       "Buenos Aires           45\n",
       "Misiones               38\n",
       "Santa Cruz             19\n",
       "Corrientes             15\n",
       "Chubut                 14\n",
       "Mendoza                13\n",
       "Entre Rios             12\n",
       "Formosa                11\n",
       "Neuquen                10\n",
       "Santa Fe                9\n",
       "Tierra Del Fuego        9\n",
       "Rio Negro               8\n",
       "Jujuy                   8\n",
       "Salta                   4\n",
       "San Juan                4\n",
       "Santiago Del Estero     4\n",
       "La Rioja                3\n",
       "Catamarca               3\n",
       "Chaco                   3\n",
       "Cordoba                 2\n",
       "San Luis                2\n",
       "Tucuman                 1\n",
       "Córdoba                 1\n",
       "Name: province, dtype: int64"
      ]
     },
     "execution_count": 188,
     "metadata": {},
     "output_type": "execute_result"
    }
   ],
   "source": [
    "df_pasos_new['province'].value_counts()"
   ]
  },
  {
   "cell_type": "code",
   "execution_count": 189,
   "metadata": {},
   "outputs": [
    {
     "data": {
      "image/png": "[encoded data removed]",
      "text/plain": [
       "<Figure size 1008x360 with 1 Axes>"
      ]
     },
     "metadata": {
      "needs_background": "light"
     },
     "output_type": "display_data"
    }
   ],
   "source": [
    "df_pasos_new['province'].value_counts().plot(kind='bar', figsize = (14, 5), grid = True, width = 0.9)\n",
    "\n",
    "plt.xlabel('Provincias', fontsize = 12)\n",
    "plt.ylabel('Cantidad de pasos', fontsize = 12)\n",
    "\n",
    "plt.show()"
   ]
  },
  {
   "cell_type": "code",
   "execution_count": null,
   "metadata": {},
   "outputs": [],
   "source": []
  }
 ],
 "metadata": {
  "kernelspec": {
   "display_name": "Python 3",
   "language": "python",
   "name": "python3"
  },
  "language_info": {
   "codemirror_mode": {
    "name": "ipython",
    "version": 3
   },
   "file_extension": ".py",
   "mimetype": "text/x-python",
   "name": "python",
   "nbconvert_exporter": "python",
   "pygments_lexer": "ipython3",
   "version": "3.6.8"
  }
 },
 "nbformat": 4,
 "nbformat_minor": 2
}
